{
 "cells": [
  {
   "cell_type": "code",
   "execution_count": 18,
   "metadata": {},
   "outputs": [],
   "source": [
    "import numpy as np\n",
    "import pandas as pd\n",
    "import pickle\n",
    "\n",
    "import patsy\n",
    "import statsmodels.api as sm\n",
    "import statsmodels.formula.api as smf\n",
    "import scipy.stats as stats\n",
    "\n",
    "import seaborn as sns\n",
    "import matplotlib.pyplot as plt\n",
    "%matplotlib inline\n",
    "\n",
    "from sklearn import preprocessing\n",
    "from sklearn.linear_model import LinearRegression\n",
    "from sklearn.model_selection import train_test_split\n",
    "from sklearn.preprocessing import StandardScaler, PolynomialFeatures\n",
    "from sklearn.preprocessing import MinMaxScaler\n",
    "from sklearn.linear_model import LinearRegression, Lasso, LassoCV, Ridge, RidgeCV\n",
    "from sklearn.model_selection import KFold\n",
    "\n",
    "pd.set_option('display.max_columns', None)"
   ]
  },
  {
   "cell_type": "code",
   "execution_count": 2,
   "metadata": {
    "collapsed": true
   },
   "outputs": [],
   "source": [
    "pickle_in = open(\"processed_film_data\",\"rb\")\n",
    "film_df = pickle.load(pickle_in)"
   ]
  },
  {
   "cell_type": "code",
   "execution_count": 3,
   "metadata": {},
   "outputs": [
    {
     "data": {
      "text/html": [
       "<div>\n",
       "<style scoped>\n",
       "    .dataframe tbody tr th:only-of-type {\n",
       "        vertical-align: middle;\n",
       "    }\n",
       "\n",
       "    .dataframe tbody tr th {\n",
       "        vertical-align: top;\n",
       "    }\n",
       "\n",
       "    .dataframe thead th {\n",
       "        text-align: right;\n",
       "    }\n",
       "</style>\n",
       "<table border=\"1\" class=\"dataframe\">\n",
       "  <thead>\n",
       "    <tr style=\"text-align: right;\">\n",
       "      <th></th>\n",
       "      <th>actors</th>\n",
       "      <th>budget</th>\n",
       "      <th>countries</th>\n",
       "      <th>directors</th>\n",
       "      <th>genres</th>\n",
       "      <th>gross_usa</th>\n",
       "      <th>languages</th>\n",
       "      <th>mpaa</th>\n",
       "      <th>rating</th>\n",
       "      <th>runtime</th>\n",
       "      <th>votes</th>\n",
       "      <th>writers</th>\n",
       "    </tr>\n",
       "  </thead>\n",
       "  <tbody>\n",
       "    <tr>\n",
       "      <th>0</th>\n",
       "      <td>[Tom Selleck, Laura San Giacomo, Alan Rickman]</td>\n",
       "      <td>20000000</td>\n",
       "      <td>+_+Australia+_+USA</td>\n",
       "      <td>Simon Wincer</td>\n",
       "      <td>[Action, Adventure, Drama, Romance, Western]</td>\n",
       "      <td>21413105</td>\n",
       "      <td>[English, Aboriginal]</td>\n",
       "      <td>PG-13</td>\n",
       "      <td>6.8</td>\n",
       "      <td>119.0</td>\n",
       "      <td>16501</td>\n",
       "      <td>John Hill</td>\n",
       "    </tr>\n",
       "    <tr>\n",
       "      <th>1</th>\n",
       "      <td>[Kevin Costner, Mary McDonnell, Graham Greene]</td>\n",
       "      <td>22000000</td>\n",
       "      <td>+_+USA+_+UK</td>\n",
       "      <td>Kevin Costner</td>\n",
       "      <td>[Adventure, Drama, Western]</td>\n",
       "      <td>184208848</td>\n",
       "      <td>[English, Sioux, Pawnee]</td>\n",
       "      <td>PG-13</td>\n",
       "      <td>8.0</td>\n",
       "      <td>181.0</td>\n",
       "      <td>204981</td>\n",
       "      <td>Michael Blake</td>\n",
       "    </tr>\n",
       "    <tr>\n",
       "      <th>2</th>\n",
       "      <td>[Tony Todd, Patricia Tallman, Tom Towles]</td>\n",
       "      <td>4200000</td>\n",
       "      <td>+_+USA</td>\n",
       "      <td>Tom Savini</td>\n",
       "      <td>[Horror]</td>\n",
       "      <td>5835247</td>\n",
       "      <td>[English]</td>\n",
       "      <td>R</td>\n",
       "      <td>6.9</td>\n",
       "      <td>92.0</td>\n",
       "      <td>33738</td>\n",
       "      <td>John A. Russo</td>\n",
       "    </tr>\n",
       "    <tr>\n",
       "      <th>3</th>\n",
       "      <td>[Jonathan Brandis, Kenny Morrison, Clarissa Burt]</td>\n",
       "      <td>36000000</td>\n",
       "      <td>+_+USA+_+Germany</td>\n",
       "      <td>George Miller</td>\n",
       "      <td>[Adventure, Drama, Family, Fantasy]</td>\n",
       "      <td>17373527</td>\n",
       "      <td>[English]</td>\n",
       "      <td>PG</td>\n",
       "      <td>5.1</td>\n",
       "      <td>90.0</td>\n",
       "      <td>20152</td>\n",
       "      <td>Karin Howard</td>\n",
       "    </tr>\n",
       "    <tr>\n",
       "      <th>4</th>\n",
       "      <td>[David Andrews, Kelly Wolf, Stephen Macht]</td>\n",
       "      <td>10500000</td>\n",
       "      <td>+_+USA+_+Japan</td>\n",
       "      <td>Ralph S. Singleton</td>\n",
       "      <td>[Horror]</td>\n",
       "      <td>11582891</td>\n",
       "      <td>[English]</td>\n",
       "      <td>R</td>\n",
       "      <td>4.8</td>\n",
       "      <td>89.0</td>\n",
       "      <td>7824</td>\n",
       "      <td>Stephen King</td>\n",
       "    </tr>\n",
       "  </tbody>\n",
       "</table>\n",
       "</div>"
      ],
      "text/plain": [
       "                                              actors    budget  \\\n",
       "0     [Tom Selleck, Laura San Giacomo, Alan Rickman]  20000000   \n",
       "1     [Kevin Costner, Mary McDonnell, Graham Greene]  22000000   \n",
       "2          [Tony Todd, Patricia Tallman, Tom Towles]   4200000   \n",
       "3  [Jonathan Brandis, Kenny Morrison, Clarissa Burt]  36000000   \n",
       "4         [David Andrews, Kelly Wolf, Stephen Macht]  10500000   \n",
       "\n",
       "            countries           directors  \\\n",
       "0  +_+Australia+_+USA        Simon Wincer   \n",
       "1         +_+USA+_+UK       Kevin Costner   \n",
       "2              +_+USA          Tom Savini   \n",
       "3    +_+USA+_+Germany       George Miller   \n",
       "4      +_+USA+_+Japan  Ralph S. Singleton   \n",
       "\n",
       "                                         genres  gross_usa  \\\n",
       "0  [Action, Adventure, Drama, Romance, Western]   21413105   \n",
       "1                   [Adventure, Drama, Western]  184208848   \n",
       "2                                      [Horror]    5835247   \n",
       "3           [Adventure, Drama, Family, Fantasy]   17373527   \n",
       "4                                      [Horror]   11582891   \n",
       "\n",
       "                  languages   mpaa  rating  runtime   votes        writers  \n",
       "0     [English, Aboriginal]  PG-13     6.8    119.0   16501      John Hill  \n",
       "1  [English, Sioux, Pawnee]  PG-13     8.0    181.0  204981  Michael Blake  \n",
       "2                 [English]      R     6.9     92.0   33738  John A. Russo  \n",
       "3                 [English]     PG     5.1     90.0   20152   Karin Howard  \n",
       "4                 [English]      R     4.8     89.0    7824   Stephen King  "
      ]
     },
     "execution_count": 3,
     "metadata": {},
     "output_type": "execute_result"
    }
   ],
   "source": [
    "film_df.head()"
   ]
  },
  {
   "cell_type": "code",
   "execution_count": 4,
   "metadata": {
    "collapsed": true
   },
   "outputs": [],
   "source": [
    "#Create dummy columns for genres\n",
    "genres = film_df['genres'].str.join('|').str.get_dummies()\n",
    "genres.reset_index(drop=True, inplace=True)\n",
    "film_df = pd.concat([film_df, genres], axis=1)\n",
    "del film_df['genres']"
   ]
  },
  {
   "cell_type": "code",
   "execution_count": 5,
   "metadata": {
    "collapsed": true
   },
   "outputs": [],
   "source": [
    "#Create dummy columns for mpaa\n",
    "mpaa = film_df['mpaa'].str.get_dummies()\n",
    "mpaa.reset_index(inplace=True, drop=True)\n",
    "film_df = pd.concat([film_df, mpaa], axis=1)\n",
    "del film_df['mpaa']"
   ]
  },
  {
   "cell_type": "code",
   "execution_count": 6,
   "metadata": {
    "collapsed": true
   },
   "outputs": [],
   "source": [
    "#Create dummy columns for languages\n",
    "languages = film_df['languages'].str.join('|').str.get_dummies()"
   ]
  },
  {
   "cell_type": "code",
   "execution_count": 7,
   "metadata": {},
   "outputs": [
    {
     "data": {
      "text/plain": [
       "English     4453\n",
       "Spanish      446\n",
       "French       328\n",
       "German       195\n",
       "Italian      165\n",
       "Russian      157\n",
       "Japanese     102\n",
       "Arabic        87\n",
       "Mandarin      78\n",
       "Latin         53\n",
       "dtype: int64"
      ]
     },
     "execution_count": 7,
     "metadata": {},
     "output_type": "execute_result"
    }
   ],
   "source": [
    "#Check the values\n",
    "languages.sum().sort_values(ascending = False).head(10)"
   ]
  },
  {
   "cell_type": "code",
   "execution_count": 8,
   "metadata": {
    "collapsed": true
   },
   "outputs": [],
   "source": [
    "#Pick the top 7 languages and add them back to the dataframe\n",
    "languages = languages[['English', 'Spanish', 'French', 'German', 'Italian', 'Russian', 'Japanese']]\n",
    "film_df = pd.concat([film_df, languages], axis=1)\n",
    "del film_df['languages']"
   ]
  },
  {
   "cell_type": "code",
   "execution_count": 9,
   "metadata": {},
   "outputs": [
    {
     "data": {
      "text/plain": [
       "5.0"
      ]
     },
     "execution_count": 9,
     "metadata": {},
     "output_type": "execute_result"
    }
   ],
   "source": [
    "#Look at director percentiles\n",
    "film_df['directors'].value_counts().quantile(0.9)"
   ]
  },
  {
   "cell_type": "code",
   "execution_count": 10,
   "metadata": {
    "collapsed": true
   },
   "outputs": [],
   "source": [
    "#Create dummy columns for directors and delete all who have fewer than 5 films.\n",
    "directors = film_df['directors'].str.get_dummies()\n",
    "directors = directors[directors.columns[directors.sum() >=5]]\n",
    "film_df = pd.concat([film_df, directors], axis=1)\n",
    "del film_df['directors']"
   ]
  },
  {
   "cell_type": "code",
   "execution_count": 11,
   "metadata": {},
   "outputs": [
    {
     "data": {
      "text/plain": [
       "Woody Allen          22\n",
       "Stephen King         15\n",
       "Joel Coen            11\n",
       "Michael Crichton     10\n",
       "Quentin Tarantino    10\n",
       "Name: writers, dtype: int64"
      ]
     },
     "execution_count": 11,
     "metadata": {},
     "output_type": "execute_result"
    }
   ],
   "source": [
    "#Look at writers now\n",
    "film_df['writers'].value_counts().head()"
   ]
  },
  {
   "cell_type": "code",
   "execution_count": 12,
   "metadata": {},
   "outputs": [
    {
     "data": {
      "text/plain": [
       "3.0"
      ]
     },
     "execution_count": 12,
     "metadata": {},
     "output_type": "execute_result"
    }
   ],
   "source": [
    "#Check writer percentiles\n",
    "film_df['writers'].value_counts().quantile(0.9)"
   ]
  },
  {
   "cell_type": "code",
   "execution_count": 13,
   "metadata": {
    "collapsed": true
   },
   "outputs": [],
   "source": [
    "#Remove writers who have fewer than 5 movies.\n",
    "writers = film_df['writers'].str.get_dummies()\n",
    "writers = writers[writers.columns[writers.sum() >=5]]\n",
    "film_df = pd.concat([film_df, writers], axis=1)\n",
    "del film_df['writers']"
   ]
  },
  {
   "cell_type": "code",
   "execution_count": 14,
   "metadata": {
    "collapsed": true
   },
   "outputs": [],
   "source": [
    "#Create dummy columns for actors\n",
    "actors = film_df['actors'].str.join('|').str.get_dummies()"
   ]
  },
  {
   "cell_type": "code",
   "execution_count": 15,
   "metadata": {},
   "outputs": [
    {
     "data": {
      "text/plain": [
       "6.0"
      ]
     },
     "execution_count": 15,
     "metadata": {},
     "output_type": "execute_result"
    }
   ],
   "source": [
    "#Check which actors appear in movies the most.\n",
    "actors.sum().quantile(0.9)"
   ]
  },
  {
   "cell_type": "code",
   "execution_count": 16,
   "metadata": {
    "collapsed": true
   },
   "outputs": [],
   "source": [
    "#Select these actors.\n",
    "actors = actors[actors.columns[actors.sum() >=6]]\n",
    "film_df = pd.concat([film_df, actors], axis=1)\n",
    "del film_df['actors']"
   ]
  },
  {
   "cell_type": "code",
   "execution_count": 17,
   "metadata": {},
   "outputs": [
    {
     "ename": "KeyError",
     "evalue": "\"['USA' 'UK' 'Germany' 'Canada' 'France'] not in index\"",
     "output_type": "error",
     "traceback": [
      "\u001b[0;31m---------------------------------------------------------------------------\u001b[0m",
      "\u001b[0;31mKeyError\u001b[0m                                  Traceback (most recent call last)",
      "\u001b[0;32m<ipython-input-17-1436d6851c9e>\u001b[0m in \u001b[0;36m<module>\u001b[0;34m()\u001b[0m\n\u001b[1;32m      2\u001b[0m \u001b[0mcountries\u001b[0m \u001b[0;34m=\u001b[0m \u001b[0mfilm_df\u001b[0m\u001b[0;34m[\u001b[0m\u001b[0;34m'countries'\u001b[0m\u001b[0;34m]\u001b[0m\u001b[0;34m.\u001b[0m\u001b[0mstr\u001b[0m\u001b[0;34m.\u001b[0m\u001b[0mjoin\u001b[0m\u001b[0;34m(\u001b[0m\u001b[0;34m'|'\u001b[0m\u001b[0;34m)\u001b[0m\u001b[0;34m.\u001b[0m\u001b[0mstr\u001b[0m\u001b[0;34m.\u001b[0m\u001b[0mget_dummies\u001b[0m\u001b[0;34m(\u001b[0m\u001b[0;34m)\u001b[0m\u001b[0;34m\u001b[0m\u001b[0m\n\u001b[1;32m      3\u001b[0m \u001b[0mcountries\u001b[0m\u001b[0;34m.\u001b[0m\u001b[0msum\u001b[0m\u001b[0;34m(\u001b[0m\u001b[0;34m)\u001b[0m\u001b[0;34m.\u001b[0m\u001b[0msort_values\u001b[0m\u001b[0;34m(\u001b[0m\u001b[0mascending\u001b[0m \u001b[0;34m=\u001b[0m \u001b[0;32mFalse\u001b[0m\u001b[0;34m)\u001b[0m\u001b[0;34m.\u001b[0m\u001b[0mhead\u001b[0m\u001b[0;34m(\u001b[0m\u001b[0;36m10\u001b[0m\u001b[0;34m)\u001b[0m\u001b[0;34m\u001b[0m\u001b[0m\n\u001b[0;32m----> 4\u001b[0;31m \u001b[0mcountries\u001b[0m \u001b[0;34m=\u001b[0m \u001b[0mcountries\u001b[0m\u001b[0;34m[\u001b[0m\u001b[0;34m[\u001b[0m\u001b[0;34m'USA'\u001b[0m\u001b[0;34m,\u001b[0m \u001b[0;34m'UK'\u001b[0m\u001b[0;34m,\u001b[0m \u001b[0;34m'Germany'\u001b[0m\u001b[0;34m,\u001b[0m \u001b[0;34m'Canada'\u001b[0m\u001b[0;34m,\u001b[0m \u001b[0;34m'France'\u001b[0m\u001b[0;34m]\u001b[0m\u001b[0;34m]\u001b[0m\u001b[0;34m\u001b[0m\u001b[0m\n\u001b[0m\u001b[1;32m      5\u001b[0m \u001b[0mfilm_df\u001b[0m \u001b[0;34m=\u001b[0m \u001b[0mpd\u001b[0m\u001b[0;34m.\u001b[0m\u001b[0mconcat\u001b[0m\u001b[0;34m(\u001b[0m\u001b[0;34m[\u001b[0m\u001b[0mfilm_df\u001b[0m\u001b[0;34m,\u001b[0m \u001b[0mcountries\u001b[0m\u001b[0;34m]\u001b[0m\u001b[0;34m,\u001b[0m \u001b[0maxis\u001b[0m\u001b[0;34m=\u001b[0m\u001b[0;36m1\u001b[0m\u001b[0;34m)\u001b[0m\u001b[0;34m\u001b[0m\u001b[0m\n\u001b[1;32m      6\u001b[0m \u001b[0;32mdel\u001b[0m \u001b[0mfilm_df\u001b[0m\u001b[0;34m[\u001b[0m\u001b[0;34m'countries'\u001b[0m\u001b[0;34m]\u001b[0m\u001b[0;34m\u001b[0m\u001b[0m\n",
      "\u001b[0;32m/anaconda3/lib/python3.6/site-packages/pandas/core/frame.py\u001b[0m in \u001b[0;36m__getitem__\u001b[0;34m(self, key)\u001b[0m\n\u001b[1;32m   2131\u001b[0m         \u001b[0;32mif\u001b[0m \u001b[0misinstance\u001b[0m\u001b[0;34m(\u001b[0m\u001b[0mkey\u001b[0m\u001b[0;34m,\u001b[0m \u001b[0;34m(\u001b[0m\u001b[0mSeries\u001b[0m\u001b[0;34m,\u001b[0m \u001b[0mnp\u001b[0m\u001b[0;34m.\u001b[0m\u001b[0mndarray\u001b[0m\u001b[0;34m,\u001b[0m \u001b[0mIndex\u001b[0m\u001b[0;34m,\u001b[0m \u001b[0mlist\u001b[0m\u001b[0;34m)\u001b[0m\u001b[0;34m)\u001b[0m\u001b[0;34m:\u001b[0m\u001b[0;34m\u001b[0m\u001b[0m\n\u001b[1;32m   2132\u001b[0m             \u001b[0;31m# either boolean or fancy integer index\u001b[0m\u001b[0;34m\u001b[0m\u001b[0;34m\u001b[0m\u001b[0m\n\u001b[0;32m-> 2133\u001b[0;31m             \u001b[0;32mreturn\u001b[0m \u001b[0mself\u001b[0m\u001b[0;34m.\u001b[0m\u001b[0m_getitem_array\u001b[0m\u001b[0;34m(\u001b[0m\u001b[0mkey\u001b[0m\u001b[0;34m)\u001b[0m\u001b[0;34m\u001b[0m\u001b[0m\n\u001b[0m\u001b[1;32m   2134\u001b[0m         \u001b[0;32melif\u001b[0m \u001b[0misinstance\u001b[0m\u001b[0;34m(\u001b[0m\u001b[0mkey\u001b[0m\u001b[0;34m,\u001b[0m \u001b[0mDataFrame\u001b[0m\u001b[0;34m)\u001b[0m\u001b[0;34m:\u001b[0m\u001b[0;34m\u001b[0m\u001b[0m\n\u001b[1;32m   2135\u001b[0m             \u001b[0;32mreturn\u001b[0m \u001b[0mself\u001b[0m\u001b[0;34m.\u001b[0m\u001b[0m_getitem_frame\u001b[0m\u001b[0;34m(\u001b[0m\u001b[0mkey\u001b[0m\u001b[0;34m)\u001b[0m\u001b[0;34m\u001b[0m\u001b[0m\n",
      "\u001b[0;32m/anaconda3/lib/python3.6/site-packages/pandas/core/frame.py\u001b[0m in \u001b[0;36m_getitem_array\u001b[0;34m(self, key)\u001b[0m\n\u001b[1;32m   2175\u001b[0m             \u001b[0;32mreturn\u001b[0m \u001b[0mself\u001b[0m\u001b[0;34m.\u001b[0m\u001b[0m_take\u001b[0m\u001b[0;34m(\u001b[0m\u001b[0mindexer\u001b[0m\u001b[0;34m,\u001b[0m \u001b[0maxis\u001b[0m\u001b[0;34m=\u001b[0m\u001b[0;36m0\u001b[0m\u001b[0;34m,\u001b[0m \u001b[0mconvert\u001b[0m\u001b[0;34m=\u001b[0m\u001b[0;32mFalse\u001b[0m\u001b[0;34m)\u001b[0m\u001b[0;34m\u001b[0m\u001b[0m\n\u001b[1;32m   2176\u001b[0m         \u001b[0;32melse\u001b[0m\u001b[0;34m:\u001b[0m\u001b[0;34m\u001b[0m\u001b[0m\n\u001b[0;32m-> 2177\u001b[0;31m             \u001b[0mindexer\u001b[0m \u001b[0;34m=\u001b[0m \u001b[0mself\u001b[0m\u001b[0;34m.\u001b[0m\u001b[0mloc\u001b[0m\u001b[0;34m.\u001b[0m\u001b[0m_convert_to_indexer\u001b[0m\u001b[0;34m(\u001b[0m\u001b[0mkey\u001b[0m\u001b[0;34m,\u001b[0m \u001b[0maxis\u001b[0m\u001b[0;34m=\u001b[0m\u001b[0;36m1\u001b[0m\u001b[0;34m)\u001b[0m\u001b[0;34m\u001b[0m\u001b[0m\n\u001b[0m\u001b[1;32m   2178\u001b[0m             \u001b[0;32mreturn\u001b[0m \u001b[0mself\u001b[0m\u001b[0;34m.\u001b[0m\u001b[0m_take\u001b[0m\u001b[0;34m(\u001b[0m\u001b[0mindexer\u001b[0m\u001b[0;34m,\u001b[0m \u001b[0maxis\u001b[0m\u001b[0;34m=\u001b[0m\u001b[0;36m1\u001b[0m\u001b[0;34m,\u001b[0m \u001b[0mconvert\u001b[0m\u001b[0;34m=\u001b[0m\u001b[0;32mTrue\u001b[0m\u001b[0;34m)\u001b[0m\u001b[0;34m\u001b[0m\u001b[0m\n\u001b[1;32m   2179\u001b[0m \u001b[0;34m\u001b[0m\u001b[0m\n",
      "\u001b[0;32m/anaconda3/lib/python3.6/site-packages/pandas/core/indexing.py\u001b[0m in \u001b[0;36m_convert_to_indexer\u001b[0;34m(self, obj, axis, is_setter)\u001b[0m\n\u001b[1;32m   1267\u001b[0m                 \u001b[0;32mif\u001b[0m \u001b[0mmask\u001b[0m\u001b[0;34m.\u001b[0m\u001b[0many\u001b[0m\u001b[0;34m(\u001b[0m\u001b[0;34m)\u001b[0m\u001b[0;34m:\u001b[0m\u001b[0;34m\u001b[0m\u001b[0m\n\u001b[1;32m   1268\u001b[0m                     raise KeyError('{mask} not in index'\n\u001b[0;32m-> 1269\u001b[0;31m                                    .format(mask=objarr[mask]))\n\u001b[0m\u001b[1;32m   1270\u001b[0m \u001b[0;34m\u001b[0m\u001b[0m\n\u001b[1;32m   1271\u001b[0m                 \u001b[0;32mreturn\u001b[0m \u001b[0m_values_from_object\u001b[0m\u001b[0;34m(\u001b[0m\u001b[0mindexer\u001b[0m\u001b[0;34m)\u001b[0m\u001b[0;34m\u001b[0m\u001b[0m\n",
      "\u001b[0;31mKeyError\u001b[0m: \"['USA' 'UK' 'Germany' 'Canada' 'France'] not in index\""
     ]
    }
   ],
   "source": [
    "#Create dummy columns for countries\n",
    "countries = film_df['countries'].str.join('|').str.get_dummies()\n",
    "countries.sum().sort_values(ascending = False).head(10)\n",
    "countries = countries[['USA', 'UK', 'Germany', 'Canada', 'France']]\n",
    "film_df = pd.concat([film_df, countries], axis=1)\n",
    "del film_df['countries']"
   ]
  },
  {
   "cell_type": "code",
   "execution_count": null,
   "metadata": {
    "collapsed": true
   },
   "outputs": [],
   "source": [
    "#Apply log based on previous observations (based on observations in Modeling 1)\n",
    "film_df['budget'] = film_df['budget'].apply(lambda x: np.log(x))\n",
    "film_df['gross_usa'] = film_df['gross_usa'].apply(lambda x: np.log(x))\n",
    "film_df['runtime'] = film_df['runtime'].apply(lambda x: np.log(x))\n",
    "film_df['votes'] = film_df['votes'].apply(lambda x: np.log(x))"
   ]
  },
  {
   "cell_type": "code",
   "execution_count": null,
   "metadata": {
    "collapsed": true
   },
   "outputs": [],
   "source": [
    "#Scale data\n",
    "scaler = MinMaxScaler()\n",
    "\n",
    "data = film_df.drop('rating', axis=1)\n",
    "target = film_df['rating']\n",
    "\n",
    "data = pd.DataFrame(scaler.fit_transform(data), columns=data.columns)"
   ]
  },
  {
   "cell_type": "code",
   "execution_count": null,
   "metadata": {},
   "outputs": [],
   "source": [
    "#Look at the correlation matrix\n",
    "film_df.corr()"
   ]
  },
  {
   "cell_type": "markdown",
   "metadata": {},
   "source": [
    "# Diagnostics"
   ]
  },
  {
   "cell_type": "code",
   "execution_count": null,
   "metadata": {},
   "outputs": [],
   "source": [
    "#Diagnostic plots\n",
    "plt.figure(figsize=(15,5))\n",
    "\n",
    "X, y = data, target\n",
    "\n",
    "rgr = LinearRegression()\n",
    "rgr.fit(X, y)\n",
    "pred = rgr.predict(X)\n",
    "\n",
    "plt.subplot(1, 3, 1)\n",
    "plt.scatter(pred, y, alpha = 0.1)\n",
    "plt.title(\"Regular regression fit\")\n",
    "plt.xlabel(\"pred\")\n",
    "plt.ylabel(\"y\")\n",
    "\n",
    "plt.subplot(1, 3, 2)\n",
    "res = (y - pred)\n",
    "plt.scatter(pred, res, alpha = 0.1)\n",
    "plt.title(\"Regular regression residual plot\")\n",
    "plt.xlabel(\"prediction\")\n",
    "plt.ylabel(\"residuals\")\n",
    "\n",
    "plt.subplot(1, 3, 3)\n",
    "pred = rgr.predict(X)\n",
    "stats.probplot(res, dist=\"norm\", plot=plt)\n",
    "plt.title(\"Regular regression Q-Q plot\");"
   ]
  },
  {
   "cell_type": "code",
   "execution_count": null,
   "metadata": {},
   "outputs": [],
   "source": [
    "#Statmodels analysis\n",
    "model = sm.OLS(y,X)\n",
    "fit = model.fit()\n",
    "fit.summary()"
   ]
  },
  {
   "cell_type": "markdown",
   "metadata": {},
   "source": [
    "# Models"
   ]
  },
  {
   "cell_type": "code",
   "execution_count": null,
   "metadata": {
    "collapsed": true
   },
   "outputs": [],
   "source": [
    "#This function will help me calculate the RMSE\n",
    "def RMSE(actuals, preds): \n",
    "    return np.sqrt(np.mean((actuals - preds)**2))"
   ]
  },
  {
   "cell_type": "code",
   "execution_count": null,
   "metadata": {
    "collapsed": true
   },
   "outputs": [],
   "source": [
    "#Divide the data into training, test, and validation sets.\n",
    "X, X_test, y, y_test = train_test_split(X, y, test_size=.2, random_state=42) \n",
    "X_train, X_val, y_train, y_val = train_test_split(X, y, test_size=.25, random_state=3)\n",
    "\n",
    "kf = KFold(n_splits=5, shuffle=True, random_state = 71)"
   ]
  },
  {
   "cell_type": "markdown",
   "metadata": {},
   "source": [
    "## Model 1 - Basic Linear Regression"
   ]
  },
  {
   "cell_type": "code",
   "execution_count": null,
   "metadata": {},
   "outputs": [],
   "source": [
    "#Initialize the model\n",
    "lr_model_1 = LinearRegression()\n",
    "lr_model_1.fit(X_train, y_train)"
   ]
  },
  {
   "cell_type": "code",
   "execution_count": null,
   "metadata": {},
   "outputs": [],
   "source": [
    "#Perform basic validation and look at the results.\n",
    "plt.scatter(lr_model_1.predict(X_val), y_val, alpha=.1)\n",
    "plt.plot(np.linspace(0,12,0.1),np.linspace(0,12,0.1))\n",
    "plt.xlabel(\"validation predictions\")\n",
    "plt.ylabel(\"validation true values\");"
   ]
  },
  {
   "cell_type": "code",
   "execution_count": null,
   "metadata": {},
   "outputs": [],
   "source": [
    "#Look at the model's RMSE and r^2\n",
    "print(\"Basic Linear Regression RMSE: %.3f\" %(RMSE(y_val, lr_model_1.predict(X_val))))\n",
    "print(\"Basic Linear Regression r^2: %.3f\" %(lr_model_1.score(X_val, y_val)))"
   ]
  },
  {
   "cell_type": "code",
   "execution_count": null,
   "metadata": {},
   "outputs": [],
   "source": [
    "#Perform cross-validation\n",
    "X_cv, y_cv = np.array(X), np.array(y)\n",
    "\n",
    "cv_lm_r2s = []\n",
    "cv_lm_rmse = []\n",
    "\n",
    "for train_ind, val_ind in kf.split(X_cv, y_cv):\n",
    "    \n",
    "    X_cv_train, y_cv_train = X_cv[train_ind], y_cv[train_ind]\n",
    "    X_val, y_val = X_cv[val_ind], y_cv[val_ind] \n",
    "    \n",
    "    lr_model_1.fit(X_cv_train, y_cv_train)\n",
    "    \n",
    "    cv_lm_r2s.append(lr_model_1.score(X_val, y_val))\n",
    "    cv_lm_rmse.append(RMSE(y_val, lr_model_1.predict(X_val)))\n",
    "\n",
    "#Check RMSE and r^2 for cross-validation.\n",
    "print('Basic Linear Regression mean cv r^2: %.3f +- %.3f' %(np.mean(cv_lm_r2s),np.std(cv_lm_r2s)))\n",
    "print('Basic Linear Regression mean cv RMSE: %.3f +- %.3f' %(np.mean(cv_lm_rmse),np.std(cv_lm_rmse)))"
   ]
  },
  {
   "cell_type": "code",
   "execution_count": null,
   "metadata": {
    "collapsed": true
   },
   "outputs": [],
   "source": [
    "#Check r^2 on the test set.\n",
    "lr_model_1.score(X_test, y_test)"
   ]
  },
  {
   "cell_type": "markdown",
   "metadata": {},
   "source": [
    "## Model 2 - LASSO regularization"
   ]
  },
  {
   "cell_type": "code",
   "execution_count": null,
   "metadata": {
    "collapsed": true
   },
   "outputs": [],
   "source": [
    "#Define alphavec for LASSO and Ridge CV\n",
    "alphavec = 10**np.linspace(-5,5,10)"
   ]
  },
  {
   "cell_type": "code",
   "execution_count": null,
   "metadata": {
    "collapsed": true
   },
   "outputs": [],
   "source": [
    "#Scale the training set\n",
    "std = StandardScaler()\n",
    "std.fit(X_train);"
   ]
  },
  {
   "cell_type": "code",
   "execution_count": null,
   "metadata": {
    "collapsed": true
   },
   "outputs": [],
   "source": [
    "#Transform the training data for LASSO regularization\n",
    "X_lasso_train = std.transform(X_train)\n",
    "X_lasso_val = std.transform(X_val)"
   ]
  },
  {
   "cell_type": "code",
   "execution_count": null,
   "metadata": {},
   "outputs": [],
   "source": [
    "#Initialize the model and perform cross-validation using in-built methods.\n",
    "lr_model_2 = LassoCV(alphas = alphavec, cv=5)\n",
    "lr_model_2.fit(X_lasso_train,y_train)"
   ]
  },
  {
   "cell_type": "code",
   "execution_count": null,
   "metadata": {},
   "outputs": [],
   "source": [
    "#Look at the coefficients.\n",
    "list(zip(X_train.columns, lr_model_2.coef_))"
   ]
  },
  {
   "cell_type": "code",
   "execution_count": null,
   "metadata": {
    "collapsed": true
   },
   "outputs": [],
   "source": [
    "#Look at a single validation sert.\n",
    "val_set_pred_2 = lr_model_2.predict(X_lasso_val)"
   ]
  },
  {
   "cell_type": "code",
   "execution_count": null,
   "metadata": {},
   "outputs": [],
   "source": [
    "#Check RMSE and r^2 for LASSO regularization for one validation set.\n",
    "print('LASSO mean cv r^2: %.3f' %lr_model_2.score(X_lasso_val, y_val))\n",
    "print('LASSO mean cv RMSE: %.3f' %np.sqrt(np.mean((val_set_pred_2 - y_val)**2)))"
   ]
  },
  {
   "cell_type": "code",
   "execution_count": null,
   "metadata": {
    "collapsed": true
   },
   "outputs": [],
   "source": [
    "#Check the model's r^2 on the test data.\n",
    "lr_model_2.score(std.transform(X_test), y_test)"
   ]
  },
  {
   "cell_type": "markdown",
   "metadata": {},
   "source": [
    "## Model 3 - Ridge Regularization"
   ]
  },
  {
   "cell_type": "code",
   "execution_count": null,
   "metadata": {
    "collapsed": true
   },
   "outputs": [],
   "source": [
    "#Scale the data\n",
    "scaler = StandardScaler()\n",
    "\n",
    "X_train_scaled = scaler.fit_transform(X_train)\n",
    "X_val_scaled = scaler.transform(X_val)"
   ]
  },
  {
   "cell_type": "code",
   "execution_count": null,
   "metadata": {},
   "outputs": [],
   "source": [
    "#Initialize the model and perform built-in cross-validation.\n",
    "lr_model_3 = RidgeCV(alphas = alphavec, cv=5)\n",
    "lr_model_3.fit(X_train_scaled,y_train)"
   ]
  },
  {
   "cell_type": "code",
   "execution_count": null,
   "metadata": {},
   "outputs": [],
   "source": [
    "#Check the coefficients\n",
    "list(zip(X_train.columns,lr_model_3.coef_))"
   ]
  },
  {
   "cell_type": "code",
   "execution_count": null,
   "metadata": {
    "collapsed": true
   },
   "outputs": [],
   "source": [
    "#Look at one validation set...\n",
    "val_set_pred_3 = lr_model_3.predict(X_val_scaled)"
   ]
  },
  {
   "cell_type": "code",
   "execution_count": null,
   "metadata": {},
   "outputs": [],
   "source": [
    "#... and check its RMSE and r^2\n",
    "print('Ridge mean cv r^2: %.3f' %lr_model_3.score(X_val_scaled, y_val))\n",
    "print('Ridge mean cv RMSE: %.3f' %np.sqrt(np.mean((val_set_pred_3 - y_val)**2)))"
   ]
  },
  {
   "cell_type": "code",
   "execution_count": null,
   "metadata": {
    "collapsed": true
   },
   "outputs": [],
   "source": [
    "#Test the model on the test set\n",
    "lr_model_3.score(std.transform(X_test), y_test)"
   ]
  },
  {
   "cell_type": "markdown",
   "metadata": {},
   "source": [
    "## Model 4 - Linear Regression With Polynomials"
   ]
  },
  {
   "cell_type": "markdown",
   "metadata": {},
   "source": [
    "I will not perform polynomial regression on this set because it is computationally intensive, and based on my work in notebook 3, it will not yield any meaningful results."
   ]
  }
 ],
 "metadata": {
  "kernelspec": {
   "display_name": "Python 3",
   "language": "python",
   "name": "python3"
  },
  "language_info": {
   "codemirror_mode": {
    "name": "ipython",
    "version": 3
   },
   "file_extension": ".py",
   "mimetype": "text/x-python",
   "name": "python",
   "nbconvert_exporter": "python",
   "pygments_lexer": "ipython3",
   "version": "3.6.3"
  }
 },
 "nbformat": 4,
 "nbformat_minor": 2
}
