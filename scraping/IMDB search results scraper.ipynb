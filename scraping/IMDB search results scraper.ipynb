{
 "cells": [
  {
   "cell_type": "code",
   "execution_count": 50,
   "metadata": {
    "collapsed": true
   },
   "outputs": [],
   "source": [
    "import requests\n",
    "from bs4 import BeautifulSoup as bs\n",
    "import pickle\n",
    "import random\n",
    "import re\n",
    "import time\n",
    "import pickle"
   ]
  },
  {
   "cell_type": "code",
   "execution_count": 46,
   "metadata": {},
   "outputs": [
    {
     "name": "stdout",
     "output_type": "stream",
     "text": [
      "2021\n",
      "3517\n",
      "4609\n",
      "5047\n",
      "8208\n",
      "8414\n",
      "3139\n",
      "6451\n",
      "8116\n"
     ]
    }
   ],
   "source": [
    "film_ids = []\n",
    "\n",
    "user_agent = {'User-agent': 'Mozilla/5.0'}\n",
    "\n",
    "url = \"\"\"http://www.imdb.com/search/title?title_type=feature&release_date={dates}\n",
    "         &countries=us&languages=en&view=simple&count=250&sort=release_date,asc&page={page}&ref_=adv_nxt\"\"\"\n",
    "\n",
    "date_ranges = ['1990-10-17,1993-12-31', '1994-01-01,1997-12-31', '1998-01-01,2001-12-31',\n",
    "               '2002-01-01,2005-12-31', '2006-01-01,2009-12-31', '2010-01-01,2012-12-31',\n",
    "               '2013-01-01,2013-12-31', '2014-01-01,2015-12-31', '2016-01-01,2017-12-31']\n",
    "\n",
    "for date_range in date_ranges:\n",
    "    \n",
    "    page = 1\n",
    "    leng = 0\n",
    "    \n",
    "    while True:\n",
    "        \n",
    "        response = requests.get(url.format(dates = date_range, page = page), headers = user_agent)\n",
    "\n",
    "        html = response.text\n",
    "        my_soup = bs(html, 'lxml')\n",
    "\n",
    "        titles_soup = my_soup.find_all('a', {'href': re.compile('/title/')})\n",
    "\n",
    "        index = 0\n",
    "\n",
    "        while titles_soup:\n",
    "            try: \n",
    "                index = index + 3\n",
    "                film_ids.append(titles_soup[index]['href'].split('/')[2])\n",
    "               # print(len(film_ids))\n",
    "                leng = leng + 1\n",
    "            except IndexError:\n",
    "                break\n",
    "\n",
    "        if my_soup.find(class_=\"lister-page-next\") is None:\n",
    "            break  \n",
    "\n",
    "        page = page + 1\n",
    "\n",
    "        #time.sleep(.3+2*random.random())\n",
    "        \n",
    "    print(leng)"
   ]
  },
  {
   "cell_type": "code",
   "execution_count": 47,
   "metadata": {},
   "outputs": [
    {
     "data": {
      "text/plain": [
       "49522"
      ]
     },
     "execution_count": 47,
     "metadata": {},
     "output_type": "execute_result"
    }
   ],
   "source": [
    "len(film_ids)"
   ]
  },
  {
   "cell_type": "code",
   "execution_count": 54,
   "metadata": {
    "collapsed": true
   },
   "outputs": [],
   "source": [
    "pickle_out = open(\"film_ids.pickle\",\"wb\")\n",
    "pickle.dump(film_ids, pickle_out)\n",
    "pickle_out.close()"
   ]
  },
  {
   "cell_type": "code",
   "execution_count": 68,
   "metadata": {},
   "outputs": [
    {
     "data": {
      "text/plain": [
       "['tt7721656', 'tt6415844', 'tt6220048', 'tt7390122', 'tt7916160']"
      ]
     },
     "execution_count": 68,
     "metadata": {},
     "output_type": "execute_result"
    }
   ],
   "source": [
    "film_ids[-5:]"
   ]
  },
  {
   "cell_type": "code",
   "execution_count": 67,
   "metadata": {},
   "outputs": [
    {
     "name": "stdout",
     "output_type": "stream",
     "text": [
      "49522\n"
     ]
    }
   ],
   "source": [
    "import json\n",
    "\n",
    "# encoding to JSON\n",
    "data = json.dumps(film_ids)\n",
    "\n",
    "# write to a file\n",
    "with open(\"film_ids.json\",\"w\") as f:\n",
    "      f.write(data)\n",
    "\n",
    "# reads it back\n",
    "with open(\"film_ids.json\",\"r\") as f:\n",
    "      data = f.read()\n",
    "\n",
    "# decoding the JSON to dictionay\n",
    "d = json.loads(data)\n",
    "\n",
    "print(len(d))"
   ]
  },
  {
   "cell_type": "code",
   "execution_count": null,
   "metadata": {
    "collapsed": true
   },
   "outputs": [],
   "source": []
  }
 ],
 "metadata": {
  "kernelspec": {
   "display_name": "Python 3",
   "language": "python",
   "name": "python3"
  },
  "language_info": {
   "codemirror_mode": {
    "name": "ipython",
    "version": 3
   },
   "file_extension": ".py",
   "mimetype": "text/x-python",
   "name": "python",
   "nbconvert_exporter": "python",
   "pygments_lexer": "ipython3",
   "version": "3.6.3"
  }
 },
 "nbformat": 4,
 "nbformat_minor": 2
}
