{
 "cells": [
  {
   "cell_type": "code",
   "execution_count": 1,
   "metadata": {
    "collapsed": true
   },
   "outputs": [],
   "source": [
    "import numpy as np\n",
    "import pandas as pd\n",
    "import json\n",
    "import pickle\n",
    "import re\n",
    "import matplotlib.pyplot as plt\n",
    "%matplotlib inline"
   ]
  },
  {
   "cell_type": "code",
   "execution_count": 2,
   "metadata": {
    "collapsed": true
   },
   "outputs": [],
   "source": [
    "#Create an empty dataframe and define its columns based on my data.\n",
    "film_df = pd.DataFrame(columns=['actors','budget','countries','directors','genres','gross_usa','keywords',\n",
    "                                  'languages', 'mpaa', 'rating', 'release_date', 'runtime',\n",
    "                                   'title', 'votes', 'writers', 'year'])"
   ]
  },
  {
   "cell_type": "code",
   "execution_count": 3,
   "metadata": {
    "collapsed": true
   },
   "outputs": [],
   "source": [
    "#Import all my json files to create one big dataframe.\n",
    "for i in range(1, 51):\n",
    "    \n",
    "    file = \"../Desktop/film_data_files_json/film_data_\" + str(i) + \".json\"\n",
    "\n",
    "    with open(file, \"r\") as f:\n",
    "        data = f.read()\n",
    "        \n",
    "    temp_df = pd.DataFrame(json.loads(data))\n",
    "    \n",
    "    film_df = film_df.append(temp_df)"
   ]
  },
  {
   "cell_type": "code",
   "execution_count": 4,
   "metadata": {},
   "outputs": [
    {
     "data": {
      "text/plain": [
       "49518"
      ]
     },
     "execution_count": 4,
     "metadata": {},
     "output_type": "execute_result"
    }
   ],
   "source": [
    "len(film_df)"
   ]
  },
  {
   "cell_type": "code",
   "execution_count": 5,
   "metadata": {},
   "outputs": [
    {
     "data": {
      "text/html": [
       "<div>\n",
       "<style scoped>\n",
       "    .dataframe tbody tr th:only-of-type {\n",
       "        vertical-align: middle;\n",
       "    }\n",
       "\n",
       "    .dataframe tbody tr th {\n",
       "        vertical-align: top;\n",
       "    }\n",
       "\n",
       "    .dataframe thead th {\n",
       "        text-align: right;\n",
       "    }\n",
       "</style>\n",
       "<table border=\"1\" class=\"dataframe\">\n",
       "  <thead>\n",
       "    <tr style=\"text-align: right;\">\n",
       "      <th></th>\n",
       "      <th>actors</th>\n",
       "      <th>budget</th>\n",
       "      <th>countries</th>\n",
       "      <th>directors</th>\n",
       "      <th>genres</th>\n",
       "      <th>gross_usa</th>\n",
       "      <th>keywords</th>\n",
       "      <th>languages</th>\n",
       "      <th>mpaa</th>\n",
       "      <th>rating</th>\n",
       "      <th>release_date</th>\n",
       "      <th>runtime</th>\n",
       "      <th>title</th>\n",
       "      <th>votes</th>\n",
       "      <th>writers</th>\n",
       "      <th>year</th>\n",
       "    </tr>\n",
       "  </thead>\n",
       "  <tbody>\n",
       "    <tr>\n",
       "      <th>0</th>\n",
       "      <td>+_+Tom Selleck+_+Laura San Giacomo+_+Alan Rick...</td>\n",
       "      <td>$20,000,000\\n</td>\n",
       "      <td>+_+Australia+_+USA</td>\n",
       "      <td>+_+Simon Wincer</td>\n",
       "      <td>+_+Action+_+Adventure+_+Drama+_+Romance+_+Western</td>\n",
       "      <td>$21,413,105\\n</td>\n",
       "      <td>+_+long range rifle+_+australian aborigine+_+a...</td>\n",
       "      <td>+_+English+_+Aboriginal</td>\n",
       "      <td>PG-13</td>\n",
       "      <td>6.8</td>\n",
       "      <td>1990-10-19</td>\n",
       "      <td>119.0</td>\n",
       "      <td>Quigley Down Under (1990)</td>\n",
       "      <td>16,501</td>\n",
       "      <td>+_+John Hill</td>\n",
       "      <td>1990</td>\n",
       "    </tr>\n",
       "    <tr>\n",
       "      <th>1</th>\n",
       "      <td>+_+Kevin Costner+_+Mary McDonnell+_+Graham Gre...</td>\n",
       "      <td>$22,000,000\\n</td>\n",
       "      <td>+_+USA+_+UK</td>\n",
       "      <td>+_+Kevin Costner</td>\n",
       "      <td>+_+Adventure+_+Drama+_+Western</td>\n",
       "      <td>$184,208,848\\n</td>\n",
       "      <td>+_+friendship+_+soldier+_+19th century+_+honor...</td>\n",
       "      <td>+_+English+_+Sioux+_+Pawnee</td>\n",
       "      <td>PG-13</td>\n",
       "      <td>8.0</td>\n",
       "      <td>1990-11-21</td>\n",
       "      <td>181.0</td>\n",
       "      <td>Dances with Wolves (1990)</td>\n",
       "      <td>204,981</td>\n",
       "      <td>+_+Michael Blake+_+Michael Blake</td>\n",
       "      <td>1990</td>\n",
       "    </tr>\n",
       "    <tr>\n",
       "      <th>2</th>\n",
       "      <td>+_+Tony Todd+_+Patricia Tallman+_+Tom Towles+_...</td>\n",
       "      <td>$4,200,000\\n</td>\n",
       "      <td>+_+USA</td>\n",
       "      <td>+_+Tom Savini</td>\n",
       "      <td>+_+Horror</td>\n",
       "      <td>$5,835,247\\n</td>\n",
       "      <td>+_+biker+_+friends who live together+_+multipl...</td>\n",
       "      <td>+_+English</td>\n",
       "      <td>R</td>\n",
       "      <td>6.9</td>\n",
       "      <td>1990-10-19</td>\n",
       "      <td>92.0</td>\n",
       "      <td>Night of the Living Dead (1990)</td>\n",
       "      <td>33,738</td>\n",
       "      <td>+_+John A. Russo+_+George A. Romero</td>\n",
       "      <td>1990</td>\n",
       "    </tr>\n",
       "    <tr>\n",
       "      <th>3</th>\n",
       "      <td>+_+Susan Sarandon+_+James Spader+_+Jason Alexa...</td>\n",
       "      <td>None</td>\n",
       "      <td>+_+USA</td>\n",
       "      <td>+_+Luis Mandoki</td>\n",
       "      <td>+_+Drama+_+Romance</td>\n",
       "      <td>$17,487,531\\n</td>\n",
       "      <td>+_+older woman younger man relationship+_+love...</td>\n",
       "      <td>+_+English</td>\n",
       "      <td>R</td>\n",
       "      <td>6.5</td>\n",
       "      <td>1990-10-26</td>\n",
       "      <td>103.0</td>\n",
       "      <td>White Palace (1990)</td>\n",
       "      <td>6,480</td>\n",
       "      <td>+_+Glenn Savan+_+Ted Tally</td>\n",
       "      <td>1990</td>\n",
       "    </tr>\n",
       "    <tr>\n",
       "      <th>4</th>\n",
       "      <td>+_+Leo Fuchs+_+Eve Gordon+_+Lou Jacobi+_+Armin...</td>\n",
       "      <td>None</td>\n",
       "      <td>+_+USA</td>\n",
       "      <td>+_+Barry Levinson</td>\n",
       "      <td>+_+Drama</td>\n",
       "      <td>$15,740,796\\n</td>\n",
       "      <td>+_+trolley+_+suburb+_+baltimore maryland+_+nig...</td>\n",
       "      <td>+_+English+_+Yiddish</td>\n",
       "      <td>PG</td>\n",
       "      <td>7.3</td>\n",
       "      <td>1990-10-19</td>\n",
       "      <td>128.0</td>\n",
       "      <td>Avalon (1990)</td>\n",
       "      <td>5,115</td>\n",
       "      <td>+_+Barry Levinson</td>\n",
       "      <td>1990</td>\n",
       "    </tr>\n",
       "  </tbody>\n",
       "</table>\n",
       "</div>"
      ],
      "text/plain": [
       "                                              actors  \\\n",
       "0  +_+Tom Selleck+_+Laura San Giacomo+_+Alan Rick...   \n",
       "1  +_+Kevin Costner+_+Mary McDonnell+_+Graham Gre...   \n",
       "2  +_+Tony Todd+_+Patricia Tallman+_+Tom Towles+_...   \n",
       "3  +_+Susan Sarandon+_+James Spader+_+Jason Alexa...   \n",
       "4  +_+Leo Fuchs+_+Eve Gordon+_+Lou Jacobi+_+Armin...   \n",
       "\n",
       "                      budget           countries          directors  \\\n",
       "0  $20,000,000\\n              +_+Australia+_+USA    +_+Simon Wincer   \n",
       "1  $22,000,000\\n                     +_+USA+_+UK   +_+Kevin Costner   \n",
       "2   $4,200,000\\n                          +_+USA      +_+Tom Savini   \n",
       "3                       None              +_+USA    +_+Luis Mandoki   \n",
       "4                       None              +_+USA  +_+Barry Levinson   \n",
       "\n",
       "                                              genres                gross_usa  \\\n",
       "0  +_+Action+_+Adventure+_+Drama+_+Romance+_+Western    $21,413,105\\n           \n",
       "1                     +_+Adventure+_+Drama+_+Western   $184,208,848\\n           \n",
       "2                                          +_+Horror     $5,835,247\\n           \n",
       "3                                 +_+Drama+_+Romance    $17,487,531\\n           \n",
       "4                                           +_+Drama    $15,740,796\\n           \n",
       "\n",
       "                                            keywords  \\\n",
       "0  +_+long range rifle+_+australian aborigine+_+a...   \n",
       "1  +_+friendship+_+soldier+_+19th century+_+honor...   \n",
       "2  +_+biker+_+friends who live together+_+multipl...   \n",
       "3  +_+older woman younger man relationship+_+love...   \n",
       "4  +_+trolley+_+suburb+_+baltimore maryland+_+nig...   \n",
       "\n",
       "                     languages   mpaa rating release_date  runtime  \\\n",
       "0      +_+English+_+Aboriginal  PG-13    6.8   1990-10-19    119.0   \n",
       "1  +_+English+_+Sioux+_+Pawnee  PG-13    8.0   1990-11-21    181.0   \n",
       "2                   +_+English      R    6.9   1990-10-19     92.0   \n",
       "3                   +_+English      R    6.5   1990-10-26    103.0   \n",
       "4         +_+English+_+Yiddish     PG    7.3   1990-10-19    128.0   \n",
       "\n",
       "                             title    votes  \\\n",
       "0        Quigley Down Under (1990)   16,501   \n",
       "1        Dances with Wolves (1990)  204,981   \n",
       "2  Night of the Living Dead (1990)   33,738   \n",
       "3              White Palace (1990)    6,480   \n",
       "4                    Avalon (1990)    5,115   \n",
       "\n",
       "                               writers  year  \n",
       "0                         +_+John Hill  1990  \n",
       "1     +_+Michael Blake+_+Michael Blake  1990  \n",
       "2  +_+John A. Russo+_+George A. Romero  1990  \n",
       "3           +_+Glenn Savan+_+Ted Tally  1990  \n",
       "4                    +_+Barry Levinson  1990  "
      ]
     },
     "execution_count": 5,
     "metadata": {},
     "output_type": "execute_result"
    }
   ],
   "source": [
    "film_df.head()"
   ]
  },
  {
   "cell_type": "code",
   "execution_count": 6,
   "metadata": {
    "collapsed": true
   },
   "outputs": [],
   "source": [
    "#I won't use these columns because the data is pretty uninformative, so I will delete them.\n",
    "del film_df['keywords']\n",
    "del film_df['year']\n",
    "del film_df['title']\n",
    "del film_df['release_date']"
   ]
  },
  {
   "cell_type": "code",
   "execution_count": 7,
   "metadata": {
    "collapsed": true
   },
   "outputs": [],
   "source": [
    "#And drop null values.\n",
    "film_df = film_df.dropna(how='any', axis=0)\n",
    "film_df.reset_index(drop=True, inplace=True)"
   ]
  },
  {
   "cell_type": "code",
   "execution_count": 8,
   "metadata": {},
   "outputs": [
    {
     "data": {
      "text/plain": [
       "4500"
      ]
     },
     "execution_count": 8,
     "metadata": {},
     "output_type": "execute_result"
    }
   ],
   "source": [
    "len(film_df)"
   ]
  },
  {
   "cell_type": "code",
   "execution_count": 9,
   "metadata": {},
   "outputs": [
    {
     "data": {
      "text/plain": [
       "count    4.458000e+03\n",
       "mean     3.588283e+07\n",
       "std      4.139392e+07\n",
       "min      1.600000e+03\n",
       "25%      8.000000e+06\n",
       "50%      2.200000e+07\n",
       "75%      4.800000e+07\n",
       "max      3.000000e+08\n",
       "Name: budget, dtype: float64"
      ]
     },
     "execution_count": 9,
     "metadata": {},
     "output_type": "execute_result"
    }
   ],
   "source": [
    "#Budget was imported as strings, so I am going to process it a bit and check the results.\n",
    "film_df['budget'] = film_df['budget'].apply(lambda x: x.strip())\n",
    "film_df = film_df[film_df['budget'].apply(lambda x: re.split(r'(\\d+)', x)[0]  == '$')]\n",
    "film_df.reset_index(drop=True, inplace=True)\n",
    "film_df['budget'] = film_df['budget'].apply(lambda x: int(x.split('$')[1].replace(',', '')))\n",
    "film_df['budget'].describe()"
   ]
  },
  {
   "cell_type": "code",
   "execution_count": 10,
   "metadata": {},
   "outputs": [
    {
     "data": {
      "image/png": "[encoded data removed]",
      "text/plain": [
       "<matplotlib.figure.Figure at 0x10e6b8160>"
      ]
     },
     "metadata": {},
     "output_type": "display_data"
    }
   ],
   "source": [
    "#Plotting the distribution\n",
    "plt.figure(figsize=(15,5))\n",
    "y = film_df['budget']/1000000\n",
    "y.hist(bins = 50)\n",
    "plt.xlabel('Millions of dollars')\n",
    "plt.ylabel('Count');"
   ]
  },
  {
   "cell_type": "code",
   "execution_count": 11,
   "metadata": {},
   "outputs": [
    {
     "data": {
      "text/plain": [
       "count    4.458000e+03\n",
       "mean     4.499309e+07\n",
       "std      6.788315e+07\n",
       "min      0.000000e+00\n",
       "25%      3.611954e+06\n",
       "50%      2.133254e+07\n",
       "75%      5.688982e+07\n",
       "max      9.366622e+08\n",
       "Name: gross_usa, dtype: float64"
      ]
     },
     "execution_count": 11,
     "metadata": {},
     "output_type": "execute_result"
    }
   ],
   "source": [
    "#Do the same for USA Domestic Gross\n",
    "film_df['gross_usa'] = film_df['gross_usa'].apply(lambda x: x.strip())\n",
    "film_df = film_df[film_df['gross_usa'].apply(lambda x: re.split(r'(\\d+)', x)[0]  == '$')]\n",
    "film_df.reset_index(drop=True, inplace=True)\n",
    "film_df['gross_usa'] = film_df['gross_usa'].apply(lambda x: int(x.split('$')[1].replace(',', '')))\n",
    "film_df['gross_usa'].describe()"
   ]
  },
  {
   "cell_type": "code",
   "execution_count": 12,
   "metadata": {},
   "outputs": [
    {
     "data": {
      "text/plain": [
       "count    4.457000e+03\n",
       "mean     4.500318e+07\n",
       "std      6.788742e+07\n",
       "min      2.520000e+02\n",
       "25%      3.626883e+06\n",
       "50%      2.137006e+07\n",
       "75%      5.693750e+07\n",
       "max      9.366622e+08\n",
       "Name: gross_usa, dtype: float64"
      ]
     },
     "execution_count": 12,
     "metadata": {},
     "output_type": "execute_result"
    }
   ],
   "source": [
    "#There is a zero value there, so we will remove this row\n",
    "film_df.loc[film_df['gross_usa'] == 0].index\n",
    "film_df = film_df.drop(film_df.index[3588])\n",
    "film_df['gross_usa'].describe()"
   ]
  },
  {
   "cell_type": "code",
   "execution_count": 13,
   "metadata": {},
   "outputs": [
    {
     "data": {
      "image/png": "[encoded data removed]",
      "text/plain": [
       "<matplotlib.figure.Figure at 0x11812c7b8>"
      ]
     },
     "metadata": {},
     "output_type": "display_data"
    }
   ],
   "source": [
    "#Plotting the distribution\n",
    "plt.figure(figsize=(15,5))\n",
    "y = film_df['gross_usa']/1000000\n",
    "y.hist(bins = 50)\n",
    "plt.xlabel('Millions of dollars')\n",
    "plt.ylabel('Count');"
   ]
  },
  {
   "cell_type": "code",
   "execution_count": 14,
   "metadata": {},
   "outputs": [
    {
     "data": {
      "text/plain": [
       "count    4.457000e+03\n",
       "mean     9.257722e+04\n",
       "std      1.530615e+05\n",
       "min      6.000000e+00\n",
       "25%      1.074200e+04\n",
       "50%      3.929800e+04\n",
       "75%      1.069520e+05\n",
       "max      1.905683e+06\n",
       "Name: votes, dtype: float64"
      ]
     },
     "execution_count": 14,
     "metadata": {},
     "output_type": "execute_result"
    }
   ],
   "source": [
    "#Process votes, since they were imported as strings and need to be turned into integeres.\n",
    "film_df['votes'] = film_df['votes'].str.replace(',','').apply(lambda x: int(x))\n",
    "film_df['votes'].describe()"
   ]
  },
  {
   "cell_type": "code",
   "execution_count": 15,
   "metadata": {},
   "outputs": [
    {
     "data": {
      "image/png": "[encoded data removed]",
      "text/plain": [
       "<matplotlib.figure.Figure at 0x118e59e80>"
      ]
     },
     "metadata": {},
     "output_type": "display_data"
    }
   ],
   "source": [
    "#Plotting the distribution\n",
    "plt.figure(figsize=(15,5))\n",
    "y = film_df['votes']\n",
    "y.hist(bins = 100)\n",
    "plt.xlabel('Number of votes')\n",
    "plt.ylabel('Count');"
   ]
  },
  {
   "cell_type": "code",
   "execution_count": 16,
   "metadata": {},
   "outputs": [
    {
     "data": {
      "text/plain": [
       "count    4457.000000\n",
       "mean        6.265492\n",
       "std         1.028319\n",
       "min         1.500000\n",
       "25%         5.700000\n",
       "50%         6.400000\n",
       "75%         7.000000\n",
       "max         9.300000\n",
       "Name: rating, dtype: float64"
      ]
     },
     "execution_count": 16,
     "metadata": {},
     "output_type": "execute_result"
    }
   ],
   "source": [
    "#Check rating\n",
    "film_df['rating'] = film_df['rating'].str.replace(',','').apply(lambda x: float(x))\n",
    "film_df['rating'].describe()"
   ]
  },
  {
   "cell_type": "code",
   "execution_count": 21,
   "metadata": {},
   "outputs": [
    {
     "data": {
      "image/png": "[encoded data removed]",
      "text/plain": [
       "<matplotlib.figure.Figure at 0x1195d83c8>"
      ]
     },
     "metadata": {},
     "output_type": "display_data"
    }
   ],
   "source": [
    "#Looks good, so I will plot its distribution.\n",
    "plt.figure(figsize=(8,5))\n",
    "y = film_df['rating']\n",
    "y.hist(bins = 10)\n",
    "plt.xlabel('Rating')\n",
    "plt.ylabel('Counts');"
   ]
  },
  {
   "cell_type": "markdown",
   "metadata": {},
   "source": [
    "## For categorical variables, I will unstack them in the corresponding notebooks in order not to overload my dataframe."
   ]
  },
  {
   "cell_type": "code",
   "execution_count": 22,
   "metadata": {},
   "outputs": [
    {
     "data": {
      "text/plain": [
       "Int64Index([], dtype='int64')"
      ]
     },
     "execution_count": 22,
     "metadata": {},
     "output_type": "execute_result"
    }
   ],
   "source": [
    "#Check if there are any empty strings for genres\n",
    "film_df.loc[film_df['genres'] == ''].index"
   ]
  },
  {
   "cell_type": "code",
   "execution_count": 23,
   "metadata": {
    "collapsed": true
   },
   "outputs": [],
   "source": [
    "#No, so now I will fix genres.\n",
    "film_df['genres'] = film_df['genres'].apply(lambda x: str(x).split('+_+')[1:])"
   ]
  },
  {
   "cell_type": "code",
   "execution_count": 24,
   "metadata": {},
   "outputs": [
    {
     "data": {
      "text/plain": [
       "Int64Index([], dtype='int64')"
      ]
     },
     "execution_count": 24,
     "metadata": {},
     "output_type": "execute_result"
    }
   ],
   "source": [
    "#Check mpaa\n",
    "film_df.loc[film_df['mpaa'] == ''].index"
   ]
  },
  {
   "cell_type": "code",
   "execution_count": 25,
   "metadata": {},
   "outputs": [
    {
     "data": {
      "text/plain": [
       "Int64Index([], dtype='int64')"
      ]
     },
     "execution_count": 25,
     "metadata": {},
     "output_type": "execute_result"
    }
   ],
   "source": [
    "#Check languages\n",
    "film_df.loc[film_df['languages'] == ''].index"
   ]
  },
  {
   "cell_type": "code",
   "execution_count": 26,
   "metadata": {
    "collapsed": true
   },
   "outputs": [],
   "source": [
    "#Fix languages\n",
    "film_df['languages'] = film_df['languages'].apply(lambda x: x.strip().split('+_+')[1:])"
   ]
  },
  {
   "cell_type": "code",
   "execution_count": 27,
   "metadata": {},
   "outputs": [
    {
     "data": {
      "text/plain": [
       "Int64Index([3604], dtype='int64')"
      ]
     },
     "execution_count": 27,
     "metadata": {},
     "output_type": "execute_result"
    }
   ],
   "source": [
    "#Check directors\n",
    "film_df.loc[film_df['directors'] == ''].index"
   ]
  },
  {
   "cell_type": "code",
   "execution_count": 28,
   "metadata": {
    "collapsed": true
   },
   "outputs": [],
   "source": [
    "#Delete the empty line\n",
    "film_df = film_df.drop(index = 3604).reset_index(drop=True)"
   ]
  },
  {
   "cell_type": "code",
   "execution_count": 29,
   "metadata": {},
   "outputs": [
    {
     "data": {
      "text/plain": [
       "4456"
      ]
     },
     "execution_count": 29,
     "metadata": {},
     "output_type": "execute_result"
    }
   ],
   "source": [
    "#Check dataframe length\n",
    "len(film_df)"
   ]
  },
  {
   "cell_type": "code",
   "execution_count": 30,
   "metadata": {
    "collapsed": true
   },
   "outputs": [],
   "source": [
    "#Format directors and pick only the first one\n",
    "film_df['directors'] = film_df['directors'].apply(lambda x: x.split('+_+')[1].replace(',', '')) "
   ]
  },
  {
   "cell_type": "code",
   "execution_count": 34,
   "metadata": {},
   "outputs": [
    {
     "data": {
      "text/plain": [
       "Steven Soderbergh    23\n",
       "Woody Allen          22\n",
       "Clint Eastwood       21\n",
       "Steven Spielberg     19\n",
       "Ron Howard           17\n",
       "Name: directors, dtype: int64"
      ]
     },
     "execution_count": 34,
     "metadata": {},
     "output_type": "execute_result"
    }
   ],
   "source": [
    "#Look at the data to check if it looks ok.\n",
    "film_df['directors'].value_counts().head()"
   ]
  },
  {
   "cell_type": "code",
   "execution_count": 35,
   "metadata": {},
   "outputs": [
    {
     "data": {
      "text/plain": [
       "Jason Hall      1\n",
       "Chris Eyre      1\n",
       "Mennan Yapo     1\n",
       "Floyd Mutrux    1\n",
       "Steve Race      1\n",
       "Name: directors, dtype: int64"
      ]
     },
     "execution_count": 35,
     "metadata": {},
     "output_type": "execute_result"
    }
   ],
   "source": [
    "film_df['directors'].value_counts().tail()"
   ]
  },
  {
   "cell_type": "code",
   "execution_count": 36,
   "metadata": {},
   "outputs": [
    {
     "data": {
      "text/plain": [
       "Int64Index([658], dtype='int64')"
      ]
     },
     "execution_count": 36,
     "metadata": {},
     "output_type": "execute_result"
    }
   ],
   "source": [
    "#Check writers\n",
    "film_df.loc[film_df['writers'] == ''].index"
   ]
  },
  {
   "cell_type": "code",
   "execution_count": 37,
   "metadata": {
    "collapsed": true
   },
   "outputs": [],
   "source": [
    "#Drop the empty row\n",
    "film_df = film_df.drop(index = 658).reset_index(drop=True)"
   ]
  },
  {
   "cell_type": "code",
   "execution_count": 38,
   "metadata": {
    "collapsed": true
   },
   "outputs": [],
   "source": [
    "#Process strings and pick the first value.\n",
    "film_df['writers'] = film_df['writers'].apply(lambda x: x.split('+_+')[1].replace(',', '')) "
   ]
  },
  {
   "cell_type": "code",
   "execution_count": 39,
   "metadata": {},
   "outputs": [
    {
     "data": {
      "text/plain": [
       "Woody Allen           22\n",
       "Stephen King          15\n",
       "Joel Coen             11\n",
       "John Grisham          10\n",
       "M. Night Shyamalan    10\n",
       "Name: writers, dtype: int64"
      ]
     },
     "execution_count": 39,
     "metadata": {},
     "output_type": "execute_result"
    }
   ],
   "source": [
    "film_df['writers'].value_counts().head()"
   ]
  },
  {
   "cell_type": "code",
   "execution_count": 40,
   "metadata": {},
   "outputs": [
    {
     "data": {
      "text/plain": [
       "2868"
      ]
     },
     "execution_count": 40,
     "metadata": {},
     "output_type": "execute_result"
    }
   ],
   "source": [
    "#Check for unique values.\n",
    "film_df['writers'].nunique()"
   ]
  },
  {
   "cell_type": "code",
   "execution_count": 41,
   "metadata": {
    "collapsed": true
   },
   "outputs": [],
   "source": [
    "#Get top-3 actors\n",
    "film_df['actors'] = film_df['actors'].apply(lambda x: x.strip().split('+_+')[1:4])"
   ]
  },
  {
   "cell_type": "code",
   "execution_count": 42,
   "metadata": {},
   "outputs": [
    {
     "data": {
      "text/plain": [
       "Int64Index([], dtype='int64')"
      ]
     },
     "execution_count": 42,
     "metadata": {},
     "output_type": "execute_result"
    }
   ],
   "source": [
    "#Work on countries.\n",
    "film_df.loc[film_df['countries'] == ''].index"
   ]
  },
  {
   "cell_type": "code",
   "execution_count": 37,
   "metadata": {
    "collapsed": true
   },
   "outputs": [],
   "source": [
    "film_df['countries'] = film_df['countries'].apply(lambda x: x.strip().split('+_+')[1:])"
   ]
  },
  {
   "cell_type": "code",
   "execution_count": 43,
   "metadata": {},
   "outputs": [
    {
     "data": {
      "text/html": [
       "<div>\n",
       "<style scoped>\n",
       "    .dataframe tbody tr th:only-of-type {\n",
       "        vertical-align: middle;\n",
       "    }\n",
       "\n",
       "    .dataframe tbody tr th {\n",
       "        vertical-align: top;\n",
       "    }\n",
       "\n",
       "    .dataframe thead th {\n",
       "        text-align: right;\n",
       "    }\n",
       "</style>\n",
       "<table border=\"1\" class=\"dataframe\">\n",
       "  <thead>\n",
       "    <tr style=\"text-align: right;\">\n",
       "      <th></th>\n",
       "      <th>actors</th>\n",
       "      <th>budget</th>\n",
       "      <th>countries</th>\n",
       "      <th>directors</th>\n",
       "      <th>genres</th>\n",
       "      <th>gross_usa</th>\n",
       "      <th>languages</th>\n",
       "      <th>mpaa</th>\n",
       "      <th>rating</th>\n",
       "      <th>runtime</th>\n",
       "      <th>votes</th>\n",
       "      <th>writers</th>\n",
       "    </tr>\n",
       "  </thead>\n",
       "  <tbody>\n",
       "    <tr>\n",
       "      <th>0</th>\n",
       "      <td>[Tom Selleck, Laura San Giacomo, Alan Rickman]</td>\n",
       "      <td>20000000</td>\n",
       "      <td>+_+Australia+_+USA</td>\n",
       "      <td>Simon Wincer</td>\n",
       "      <td>[Action, Adventure, Drama, Romance, Western]</td>\n",
       "      <td>21413105</td>\n",
       "      <td>[English, Aboriginal]</td>\n",
       "      <td>PG-13</td>\n",
       "      <td>6.8</td>\n",
       "      <td>119.0</td>\n",
       "      <td>16501</td>\n",
       "      <td>John Hill</td>\n",
       "    </tr>\n",
       "    <tr>\n",
       "      <th>1</th>\n",
       "      <td>[Kevin Costner, Mary McDonnell, Graham Greene]</td>\n",
       "      <td>22000000</td>\n",
       "      <td>+_+USA+_+UK</td>\n",
       "      <td>Kevin Costner</td>\n",
       "      <td>[Adventure, Drama, Western]</td>\n",
       "      <td>184208848</td>\n",
       "      <td>[English, Sioux, Pawnee]</td>\n",
       "      <td>PG-13</td>\n",
       "      <td>8.0</td>\n",
       "      <td>181.0</td>\n",
       "      <td>204981</td>\n",
       "      <td>Michael Blake</td>\n",
       "    </tr>\n",
       "    <tr>\n",
       "      <th>2</th>\n",
       "      <td>[Tony Todd, Patricia Tallman, Tom Towles]</td>\n",
       "      <td>4200000</td>\n",
       "      <td>+_+USA</td>\n",
       "      <td>Tom Savini</td>\n",
       "      <td>[Horror]</td>\n",
       "      <td>5835247</td>\n",
       "      <td>[English]</td>\n",
       "      <td>R</td>\n",
       "      <td>6.9</td>\n",
       "      <td>92.0</td>\n",
       "      <td>33738</td>\n",
       "      <td>John A. Russo</td>\n",
       "    </tr>\n",
       "    <tr>\n",
       "      <th>3</th>\n",
       "      <td>[Jonathan Brandis, Kenny Morrison, Clarissa Burt]</td>\n",
       "      <td>36000000</td>\n",
       "      <td>+_+USA+_+Germany</td>\n",
       "      <td>George Miller</td>\n",
       "      <td>[Adventure, Drama, Family, Fantasy]</td>\n",
       "      <td>17373527</td>\n",
       "      <td>[English]</td>\n",
       "      <td>PG</td>\n",
       "      <td>5.1</td>\n",
       "      <td>90.0</td>\n",
       "      <td>20152</td>\n",
       "      <td>Karin Howard</td>\n",
       "    </tr>\n",
       "    <tr>\n",
       "      <th>4</th>\n",
       "      <td>[David Andrews, Kelly Wolf, Stephen Macht]</td>\n",
       "      <td>10500000</td>\n",
       "      <td>+_+USA+_+Japan</td>\n",
       "      <td>Ralph S. Singleton</td>\n",
       "      <td>[Horror]</td>\n",
       "      <td>11582891</td>\n",
       "      <td>[English]</td>\n",
       "      <td>R</td>\n",
       "      <td>4.8</td>\n",
       "      <td>89.0</td>\n",
       "      <td>7824</td>\n",
       "      <td>Stephen King</td>\n",
       "    </tr>\n",
       "  </tbody>\n",
       "</table>\n",
       "</div>"
      ],
      "text/plain": [
       "                                              actors    budget  \\\n",
       "0     [Tom Selleck, Laura San Giacomo, Alan Rickman]  20000000   \n",
       "1     [Kevin Costner, Mary McDonnell, Graham Greene]  22000000   \n",
       "2          [Tony Todd, Patricia Tallman, Tom Towles]   4200000   \n",
       "3  [Jonathan Brandis, Kenny Morrison, Clarissa Burt]  36000000   \n",
       "4         [David Andrews, Kelly Wolf, Stephen Macht]  10500000   \n",
       "\n",
       "            countries           directors  \\\n",
       "0  +_+Australia+_+USA        Simon Wincer   \n",
       "1         +_+USA+_+UK       Kevin Costner   \n",
       "2              +_+USA          Tom Savini   \n",
       "3    +_+USA+_+Germany       George Miller   \n",
       "4      +_+USA+_+Japan  Ralph S. Singleton   \n",
       "\n",
       "                                         genres  gross_usa  \\\n",
       "0  [Action, Adventure, Drama, Romance, Western]   21413105   \n",
       "1                   [Adventure, Drama, Western]  184208848   \n",
       "2                                      [Horror]    5835247   \n",
       "3           [Adventure, Drama, Family, Fantasy]   17373527   \n",
       "4                                      [Horror]   11582891   \n",
       "\n",
       "                  languages   mpaa  rating  runtime   votes        writers  \n",
       "0     [English, Aboriginal]  PG-13     6.8    119.0   16501      John Hill  \n",
       "1  [English, Sioux, Pawnee]  PG-13     8.0    181.0  204981  Michael Blake  \n",
       "2                 [English]      R     6.9     92.0   33738  John A. Russo  \n",
       "3                 [English]     PG     5.1     90.0   20152   Karin Howard  \n",
       "4                 [English]      R     4.8     89.0    7824   Stephen King  "
      ]
     },
     "execution_count": 43,
     "metadata": {},
     "output_type": "execute_result"
    }
   ],
   "source": [
    "#Check the dataframe now.\n",
    "film_df.head()"
   ]
  },
  {
   "cell_type": "code",
   "execution_count": 44,
   "metadata": {},
   "outputs": [
    {
     "data": {
      "text/plain": [
       "4455"
      ]
     },
     "execution_count": 44,
     "metadata": {},
     "output_type": "execute_result"
    }
   ],
   "source": [
    "len(film_df)"
   ]
  },
  {
   "cell_type": "code",
   "execution_count": 45,
   "metadata": {
    "collapsed": true
   },
   "outputs": [],
   "source": [
    "#Store the data\n",
    "pickle_out = open(\"processed_film_data\",\"wb\")\n",
    "pickle.dump(film_df, pickle_out)\n",
    "pickle_out.close()"
   ]
  },
  {
   "cell_type": "code",
   "execution_count": 46,
   "metadata": {
    "collapsed": true
   },
   "outputs": [],
   "source": [
    "pickle_in = open(\"processed_film_data\",\"rb\")\n",
    "test_film_df = pickle.load(pickle_in)"
   ]
  },
  {
   "cell_type": "code",
   "execution_count": 47,
   "metadata": {},
   "outputs": [
    {
     "data": {
      "text/html": [
       "<div>\n",
       "<style scoped>\n",
       "    .dataframe tbody tr th:only-of-type {\n",
       "        vertical-align: middle;\n",
       "    }\n",
       "\n",
       "    .dataframe tbody tr th {\n",
       "        vertical-align: top;\n",
       "    }\n",
       "\n",
       "    .dataframe thead th {\n",
       "        text-align: right;\n",
       "    }\n",
       "</style>\n",
       "<table border=\"1\" class=\"dataframe\">\n",
       "  <thead>\n",
       "    <tr style=\"text-align: right;\">\n",
       "      <th></th>\n",
       "      <th>actors</th>\n",
       "      <th>budget</th>\n",
       "      <th>countries</th>\n",
       "      <th>directors</th>\n",
       "      <th>genres</th>\n",
       "      <th>gross_usa</th>\n",
       "      <th>languages</th>\n",
       "      <th>mpaa</th>\n",
       "      <th>rating</th>\n",
       "      <th>runtime</th>\n",
       "      <th>votes</th>\n",
       "      <th>writers</th>\n",
       "    </tr>\n",
       "  </thead>\n",
       "  <tbody>\n",
       "    <tr>\n",
       "      <th>0</th>\n",
       "      <td>[Tom Selleck, Laura San Giacomo, Alan Rickman]</td>\n",
       "      <td>20000000</td>\n",
       "      <td>+_+Australia+_+USA</td>\n",
       "      <td>Simon Wincer</td>\n",
       "      <td>[Action, Adventure, Drama, Romance, Western]</td>\n",
       "      <td>21413105</td>\n",
       "      <td>[English, Aboriginal]</td>\n",
       "      <td>PG-13</td>\n",
       "      <td>6.8</td>\n",
       "      <td>119.0</td>\n",
       "      <td>16501</td>\n",
       "      <td>John Hill</td>\n",
       "    </tr>\n",
       "    <tr>\n",
       "      <th>1</th>\n",
       "      <td>[Kevin Costner, Mary McDonnell, Graham Greene]</td>\n",
       "      <td>22000000</td>\n",
       "      <td>+_+USA+_+UK</td>\n",
       "      <td>Kevin Costner</td>\n",
       "      <td>[Adventure, Drama, Western]</td>\n",
       "      <td>184208848</td>\n",
       "      <td>[English, Sioux, Pawnee]</td>\n",
       "      <td>PG-13</td>\n",
       "      <td>8.0</td>\n",
       "      <td>181.0</td>\n",
       "      <td>204981</td>\n",
       "      <td>Michael Blake</td>\n",
       "    </tr>\n",
       "    <tr>\n",
       "      <th>2</th>\n",
       "      <td>[Tony Todd, Patricia Tallman, Tom Towles]</td>\n",
       "      <td>4200000</td>\n",
       "      <td>+_+USA</td>\n",
       "      <td>Tom Savini</td>\n",
       "      <td>[Horror]</td>\n",
       "      <td>5835247</td>\n",
       "      <td>[English]</td>\n",
       "      <td>R</td>\n",
       "      <td>6.9</td>\n",
       "      <td>92.0</td>\n",
       "      <td>33738</td>\n",
       "      <td>John A. Russo</td>\n",
       "    </tr>\n",
       "    <tr>\n",
       "      <th>3</th>\n",
       "      <td>[Jonathan Brandis, Kenny Morrison, Clarissa Burt]</td>\n",
       "      <td>36000000</td>\n",
       "      <td>+_+USA+_+Germany</td>\n",
       "      <td>George Miller</td>\n",
       "      <td>[Adventure, Drama, Family, Fantasy]</td>\n",
       "      <td>17373527</td>\n",
       "      <td>[English]</td>\n",
       "      <td>PG</td>\n",
       "      <td>5.1</td>\n",
       "      <td>90.0</td>\n",
       "      <td>20152</td>\n",
       "      <td>Karin Howard</td>\n",
       "    </tr>\n",
       "    <tr>\n",
       "      <th>4</th>\n",
       "      <td>[David Andrews, Kelly Wolf, Stephen Macht]</td>\n",
       "      <td>10500000</td>\n",
       "      <td>+_+USA+_+Japan</td>\n",
       "      <td>Ralph S. Singleton</td>\n",
       "      <td>[Horror]</td>\n",
       "      <td>11582891</td>\n",
       "      <td>[English]</td>\n",
       "      <td>R</td>\n",
       "      <td>4.8</td>\n",
       "      <td>89.0</td>\n",
       "      <td>7824</td>\n",
       "      <td>Stephen King</td>\n",
       "    </tr>\n",
       "  </tbody>\n",
       "</table>\n",
       "</div>"
      ],
      "text/plain": [
       "                                              actors    budget  \\\n",
       "0     [Tom Selleck, Laura San Giacomo, Alan Rickman]  20000000   \n",
       "1     [Kevin Costner, Mary McDonnell, Graham Greene]  22000000   \n",
       "2          [Tony Todd, Patricia Tallman, Tom Towles]   4200000   \n",
       "3  [Jonathan Brandis, Kenny Morrison, Clarissa Burt]  36000000   \n",
       "4         [David Andrews, Kelly Wolf, Stephen Macht]  10500000   \n",
       "\n",
       "            countries           directors  \\\n",
       "0  +_+Australia+_+USA        Simon Wincer   \n",
       "1         +_+USA+_+UK       Kevin Costner   \n",
       "2              +_+USA          Tom Savini   \n",
       "3    +_+USA+_+Germany       George Miller   \n",
       "4      +_+USA+_+Japan  Ralph S. Singleton   \n",
       "\n",
       "                                         genres  gross_usa  \\\n",
       "0  [Action, Adventure, Drama, Romance, Western]   21413105   \n",
       "1                   [Adventure, Drama, Western]  184208848   \n",
       "2                                      [Horror]    5835247   \n",
       "3           [Adventure, Drama, Family, Fantasy]   17373527   \n",
       "4                                      [Horror]   11582891   \n",
       "\n",
       "                  languages   mpaa  rating  runtime   votes        writers  \n",
       "0     [English, Aboriginal]  PG-13     6.8    119.0   16501      John Hill  \n",
       "1  [English, Sioux, Pawnee]  PG-13     8.0    181.0  204981  Michael Blake  \n",
       "2                 [English]      R     6.9     92.0   33738  John A. Russo  \n",
       "3                 [English]     PG     5.1     90.0   20152   Karin Howard  \n",
       "4                 [English]      R     4.8     89.0    7824   Stephen King  "
      ]
     },
     "execution_count": 47,
     "metadata": {},
     "output_type": "execute_result"
    }
   ],
   "source": [
    "test_film_df.head()"
   ]
  }
 ],
 "metadata": {
  "kernelspec": {
   "display_name": "Python 3",
   "language": "python",
   "name": "python3"
  },
  "language_info": {
   "codemirror_mode": {
    "name": "ipython",
    "version": 3
   },
   "file_extension": ".py",
   "mimetype": "text/x-python",
   "name": "python",
   "nbconvert_exporter": "python",
   "pygments_lexer": "ipython3",
   "version": "3.6.3"
  }
 },
 "nbformat": 4,
 "nbformat_minor": 2
}
